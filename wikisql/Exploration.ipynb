{
 "cells": [
  {
   "cell_type": "code",
   "execution_count": 1,
   "metadata": {},
   "outputs": [],
   "source": [
    "import opts\n",
    "import argparse\n",
    "import os\n",
    "parser = argparse.ArgumentParser(description='Exploration.ipynb')\n",
    "opts.translate_opts(parser)\n",
    "opt = parser.parse_args(\n",
    "    [\"-split\",\"pred\",\"-output\",\"pred.txt\",\"-data_path\",\"\",\"-model_path\",\"../data_model/wikisql/pretrain.pt\"])\n",
    "\n",
    "opt.anno = os.path.join(\n",
    "    opt.data_path, 'annotated_ent/{}.jsonl'.format(opt.split))\n",
    "opt.source_file = os.path.join(\n",
    "    opt.data_path, 'data/{}.jsonl'.format(opt.split))\n",
    "opt.db_file = os.path.join(opt.data_path, 'data/{}.db'.format(opt.split))\n",
    "opt.pre_word_vecs = os.path.join(opt.data_path, 'embedding')\n"
   ]
  },
  {
   "cell_type": "code",
   "execution_count": 2,
   "metadata": {},
   "outputs": [],
   "source": [
    "import torch\n",
    "torch.cuda.set_device(opt.gpu)"
   ]
  },
  {
   "cell_type": "code",
   "execution_count": 3,
   "metadata": {},
   "outputs": [],
   "source": [
    "dummy_parser = argparse.ArgumentParser(description='train.py')\n",
    "opts.model_opts(dummy_parser)\n",
    "opts.train_opts(dummy_parser)\n",
    "dummy_opt = dummy_parser.parse_known_args([])[0]"
   ]
  },
  {
   "cell_type": "code",
   "execution_count": null,
   "metadata": {},
   "outputs": [
    {
     "name": "stderr",
     "output_type": "stream",
     "text": [
      " 22%|██▏       | 478104/2196017 [00:56<03:23, 8439.38it/s]"
     ]
    }
   ],
   "source": [
    "import table\n",
    "fn_model = opt.model_path\n",
    "opt.model=fn_model\n",
    "translator = table.Translator(opt, dummy_opt.__dict__)"
   ]
  },
  {
   "cell_type": "code",
   "execution_count": null,
   "metadata": {},
   "outputs": [],
   "source": []
  },
  {
   "cell_type": "code",
   "execution_count": null,
   "metadata": {},
   "outputs": [],
   "source": [
    "import json\n",
    "annotated_json_question='''{\"id\": \"pred-0\", \"table_id\": \"1-1096793-1\", \"seq_output\": {\"gloss\": [\"SYMSELECT\", \"SYMAGG\", \"SYMCOL\", \"First\", \"season\", \"SYMWHERE\", \"SYMCOL\", \"Last\", \"title\", \"SYMOP\", \"=\", \"SYMCOND\", \"2012\", \"SYMEND\"], \"words\": [\"symselect\", \"symagg\", \"symcol\", \"first\", \"season\", \"symwhere\", \"symcol\", \"last\", \"title\", \"symop\", \"=\", \"symcond\", \"2012\", \"symend\"], \"after\": [\" \", \"  \", \" \", \" \", \" \", \" \", \" \", \" \", \" \", \" \", \" \", \" \", \" \", \"\"]}, \"question\": {\"gloss\": [\"What\", \"was\", \"the\", \"first\", \"season\", \"of\", \"the\", \"club\", \"who\", \"last\", \"won\", \"a\", \"title\", \"in\", \"2012\", \"?\"], \"ent\": [\"WP\", \"VBD\", \"DT\", \"JJ\", \"NN\", \"IN\", \"DT\", \"NN\", \"WP\", \"JJ\", \"VBD\", \"DT\", \"NN\", \"IN\", \"CD\", \".\"], \"words\": [\"what\", \"was\", \"the\", \"first\", \"season\", \"of\", \"the\", \"club\", \"who\", \"last\", \"won\", \"a\", \"title\", \"in\", \"2012\", \"?\"], \"after\": [\" \", \" \", \" \", \" \", \" \", \" \", \" \", \" \", \" \", \" \", \" \", \" \", \" \", \" \", \"\", \"\"]}, \"query\": {\"sel\": 2, \"conds\": [[6, 0, {\"gloss\": [\"2012\"], \"words\": [\"2012\"], \"after\": [\"\"]}]], \"agg\": 0}, \"table\": {\"header\": [{\"gloss\": [\"Club\"], \"words\": [\"club\"], \"after\": [\"\"]}, {\"gloss\": [\"Position\", \"in\", \"2012\"], \"words\": [\"position\", \"in\", \"2012\"], \"after\": [\" \", \" \", \"\"]}, {\"gloss\": [\"First\", \"season\"], \"words\": [\"first\", \"season\"], \"after\": [\" \", \"\"]}, {\"gloss\": [\"Number\", \"of\", \"seasons\"], \"words\": [\"number\", \"of\", \"seasons\"], \"after\": [\" \", \" \", \"\"]}, {\"gloss\": [\"First\", \"season\", \"of\", \"current\", \"spell\"], \"words\": [\"first\", \"season\", \"of\", \"current\", \"spell\"], \"after\": [\" \", \" \", \" \", \" \", \"\"]}, {\"gloss\": [\"Titles\"], \"words\": [\"titles\"], \"after\": [\"\"]}, {\"gloss\": [\"Last\", \"title\"], \"words\": [\"last\", \"title\"], \"after\": [\" \", \"\"]}]}, \"where_output\": {\"gloss\": [\"SYMWHERE\", \"SYMCOL\", \"Last\", \"title\", \"SYMOP\", \"=\", \"SYMCOND\", \"2012\", \"SYMEND\"], \"words\": [\"symwhere\", \"symcol\", \"last\", \"title\", \"symop\", \"=\", \"symcond\", \"2012\", \"symend\"], \"after\": [\" \", \" \", \" \", \" \", \" \", \" \", \" \", \" \", \"\"]}, \"seq_input\": {\"gloss\": [\"SYMSYMS\", \"SYMSELECT\", \"SYMWHERE\", \"SYMAND\", \"SYMCOL\", \"SYMTABLE\", \"SYMCAPTION\", \"SYMPAGE\", \"SYMSECTION\", \"SYMOP\", \"SYMCOND\", \"SYMQUESTION\", \"SYMAGG\", \"SYMAGGOPS\", \"SYMCONDOPS\", \"SYMAGGOPS\", \"MAX\", \"MIN\", \"COUNT\", \"SUM\", \"AVG\", \"SYMCONDOPS\", \"=\", \">\", \"<\", \"OP\", \"SYMTABLE\", \"SYMCOL\", \"Club\", \"SYMCOL\", \"Position\", \"in\", \"2012\", \"SYMCOL\", \"First\", \"season\", \"SYMCOL\", \"Number\", \"of\", \"seasons\", \"SYMCOL\", \"First\", \"season\", \"of\", \"current\", \"spell\", \"SYMCOL\", \"Titles\", \"SYMCOL\", \"Last\", \"title\", \"SYMQUESTION\", \"What\", \"was\", \"the\", \"first\", \"season\", \"of\", \"the\", \"club\", \"who\", \"last\", \"won\", \"a\", \"title\", \"in\", \"2012\", \"?\", \"SYMEND\"], \"words\": [\"symsyms\", \"symselect\", \"symwhere\", \"symand\", \"symcol\", \"symtable\", \"symcaption\", \"sympage\", \"symsection\", \"symop\", \"symcond\", \"symquestion\", \"symagg\", \"symaggops\", \"symcondops\", \"symaggops\", \"max\", \"min\", \"count\", \"sum\", \"avg\", \"symcondops\", \"=\", \">\", \"<\", \"op\", \"symtable\", \"symcol\", \"club\", \"symcol\", \"position\", \"in\", \"2012\", \"symcol\", \"first\", \"season\", \"symcol\", \"number\", \"of\", \"seasons\", \"symcol\", \"first\", \"season\", \"of\", \"current\", \"spell\", \"symcol\", \"titles\", \"symcol\", \"last\", \"title\", \"symquestion\", \"what\", \"was\", \"the\", \"first\", \"season\", \"of\", \"the\", \"club\", \"who\", \"last\", \"won\", \"a\", \"title\", \"in\", \"2012\", \"?\", \"symend\"], \"after\": [\" \", \" \", \" \", \" \", \" \", \" \", \" \", \" \", \" \", \" \", \" \", \" \", \" \", \" \", \" \", \"  \", \" \", \" \", \" \", \" \", \" \", \" \", \" \", \" \", \" \", \" \", \" \", \" \", \" \", \" \", \" \", \" \", \" \", \" \", \" \", \" \", \" \", \" \", \" \", \" \", \" \", \" \", \" \", \" \", \" \", \" \", \" \", \" \", \" \", \" \", \" \", \" \", \" \", \" \", \" \", \" \", \" \", \" \", \" \", \" \", \" \", \" \", \" \", \" \", \" \", \" \", \"\", \" \", \"\"]}}'''\n",
    "annotated_question = json.loads(annotated_json_question)\n",
    "js_list = [annotated_question]"
   ]
  },
  {
   "cell_type": "code",
   "execution_count": null,
   "metadata": {},
   "outputs": [],
   "source": [
    "data = table.IO.TableDataset(js_list, translator.fields, None, False)"
   ]
  },
  {
   "cell_type": "code",
   "execution_count": null,
   "metadata": {},
   "outputs": [],
   "source": [
    "test_data = table.IO.OrderedIterator(dataset=data,device=opt.gpu, batch_size=opt.batch_size, train=False, sort=True, sort_within_batch=False)\n",
    "batch=next(iter(test_data))\n",
    "result_list=translator.translate(batch)"
   ]
  },
  {
   "cell_type": "code",
   "execution_count": null,
   "metadata": {},
   "outputs": [],
   "source": [
    "pred = result_list[0]\n",
    "pred.predict(annotated_question)"
   ]
  },
  {
   "cell_type": "code",
   "execution_count": null,
   "metadata": {},
   "outputs": [],
   "source": [
    "question = [\"What\", \"was\", \"the\", \"first\", \"season\", \"of\", \"the\", \"club\", \"who\", \"last\", \"won\", \"a\", \"title\", \"in\", \"2012\", \"?\"]\n",
    "table = []\n"
   ]
  },
  {
   "cell_type": "code",
   "execution_count": null,
   "metadata": {},
   "outputs": [],
   "source": [
    "table={\"header\": \n",
    "       [\"Season\", \"Driver\", \"Team\", \"Engine\", \"Poles\", \"Wins\", \"Podiums\", \"Points\", \"Margin of defeat\"],\n",
    "       \"page_title\": \"List of Formula One World Drivers' Championship runners-up\", \n",
    "       \"types\": [\"real\", \"text\", \"text\", \"text\", \"real\", \"real\", \"real\", \"text\", \"text\"], \n",
    "       \"id\": \"1-10753917-1\",\n",
    "       \"section_title\": \"By season\", \n",
    "       \"caption\": \"By season\",\n",
    "       \"rows\": [[1950, \"Juan Manuel Fangio\", \"Alfa Romeo\", \"Alfa Romeo\", 4, 3, 3, \"27\", \"3\"], \n",
    "                #skip rows\n",
    "                [2011, \"Jenson Button\", \"McLaren\", \"Mercedes\", 0, 3, 12, \"270\", \"122\"]], \n",
    "       \"name\": \"table_10753917_1\"\n",
    "      }"
   ]
  },
  {
   "cell_type": "code",
   "execution_count": null,
   "metadata": {},
   "outputs": [],
   "source": [
    "tables[table['id']]=table"
   ]
  },
  {
   "cell_type": "code",
   "execution_count": null,
   "metadata": {},
   "outputs": [],
   "source": [
    "question = {\"phase\": 1, \n",
    "            \"table_id\": \"1-10753917-1\", \n",
    "            \"question\": \"How many drivers on the williams team had a margin of defeat of 2?\", \n",
    "            \"sql\": {\"sel\": 1, \"conds\": [[2, 0, \"Williams\"], [8, 0, \"2\"]], \"agg\": 3}\n",
    "           }"
   ]
  },
  {
   "cell_type": "code",
   "execution_count": null,
   "metadata": {},
   "outputs": [],
   "source": [
    "from annotate import annotate_example\n",
    "annotated_question = annotate_example(question, table)\n",
    "annotated_question"
   ]
  },
  {
   "cell_type": "code",
   "execution_count": null,
   "metadata": {},
   "outputs": [],
   "source": []
  }
 ],
 "metadata": {
  "kernelspec": {
   "display_name": "Python 3",
   "language": "python",
   "name": "python3"
  },
  "language_info": {
   "codemirror_mode": {
    "name": "ipython",
    "version": 3
   },
   "file_extension": ".py",
   "mimetype": "text/x-python",
   "name": "python",
   "nbconvert_exporter": "python",
   "pygments_lexer": "ipython3",
   "version": "3.5.5"
  }
 },
 "nbformat": 4,
 "nbformat_minor": 2
}
